{
 "cells": [
  {
   "cell_type": "code",
   "execution_count": 27,
   "metadata": {},
   "outputs": [],
   "source": [
    "#Problem 1 (a)\n",
    "m= 72\n",
    "r = 1.9/100\n",
    "P = 25000"
   ]
  },
  {
   "cell_type": "code",
   "execution_count": 28,
   "metadata": {},
   "outputs": [
    {
     "data": {
      "text/plain": [
       "367.5622829861111"
      ]
     },
     "execution_count": 28,
     "metadata": {},
     "output_type": "execute_result"
    }
   ],
   "source": [
    "M = ((1/m)+0.5*(r/12)+(1/8)*(m-2)*(r/12)*(r/12))*P\n",
    "M"
   ]
  },
  {
   "cell_type": "code",
   "execution_count": 29,
   "metadata": {
    "scrolled": true
   },
   "outputs": [
    {
     "data": {
      "text/plain": [
       "1464.484375"
      ]
     },
     "execution_count": 29,
     "metadata": {},
     "output_type": "execute_result"
    }
   ],
   "source": [
    "M*m-P"
   ]
  },
  {
   "cell_type": "code",
   "execution_count": 30,
   "metadata": {},
   "outputs": [
    {
     "data": {
      "text/plain": [
       "0.08821494791666666"
      ]
     },
     "execution_count": 30,
     "metadata": {},
     "output_type": "execute_result"
    }
   ],
   "source": [
    "M*12/50000"
   ]
  },
  {
   "cell_type": "code",
   "execution_count": 33,
   "metadata": {},
   "outputs": [
    {
     "data": {
      "text/plain": [
       "-1.1009114583333144"
      ]
     },
     "execution_count": 33,
     "metadata": {},
     "output_type": "execute_result"
    }
   ],
   "source": [
    "367.5622829861111-368.6631944444444"
   ]
  },
  {
   "cell_type": "code",
   "execution_count": 34,
   "metadata": {},
   "outputs": [
    {
     "data": {
      "text/plain": [
       "79.26562499999864"
      ]
     },
     "execution_count": 34,
     "metadata": {},
     "output_type": "execute_result"
    }
   ],
   "source": [
    "1.1009114583333144*72"
   ]
  },
  {
   "cell_type": "code",
   "execution_count": 50,
   "metadata": {},
   "outputs": [
    {
     "data": {
      "text/plain": [
       "25860.138433500404"
      ]
     },
     "execution_count": 50,
     "metadata": {},
     "output_type": "execute_result"
    }
   ],
   "source": [
    "m = 36\n",
    "r = 3/100\n",
    "M = 726.3585069444445+25\n",
    "P = M*m/((1+r/12)**(m/2))\n",
    "P"
   ]
  },
  {
   "cell_type": "code",
   "execution_count": 51,
   "metadata": {},
   "outputs": [
    {
     "data": {
      "text/plain": [
       "751.3585069444445"
      ]
     },
     "execution_count": 51,
     "metadata": {},
     "output_type": "execute_result"
    }
   ],
   "source": [
    "M"
   ]
  },
  {
   "cell_type": "code",
   "execution_count": 52,
   "metadata": {},
   "outputs": [
    {
     "data": {
      "text/plain": [
       "28875.78236902694"
      ]
     },
     "execution_count": 52,
     "metadata": {},
     "output_type": "execute_result"
    }
   ],
   "source": [
    "M=368.6631944444444\n",
    "m=84\n",
    "r=2/100\n",
    "P = M*m/((1+r/12)**(m/2))\n"
   ]
  },
  {
   "cell_type": "code",
   "execution_count": null,
   "metadata": {},
   "outputs": [],
   "source": []
  },
  {
   "cell_type": "markdown",
   "metadata": {},
   "source": [
    "Problem 2"
   ]
  },
  {
   "cell_type": "code",
   "execution_count": 12,
   "metadata": {},
   "outputs": [],
   "source": [
    "import pandas as pd \n",
    "df = pd.read_csv(\"/Users/liloli/Desktop/GR5293/hw2/LendingClub_2016Q1.csv\") \n",
    "df_c = df[df['grade']=='C']\n",
    "row_c = df_c.head(1)"
   ]
  },
  {
   "cell_type": "code",
   "execution_count": 13,
   "metadata": {},
   "outputs": [],
   "source": [
    "df_a = df[df['grade']=='A']\n",
    "row_a = df_a.head(1)"
   ]
  },
  {
   "cell_type": "code",
   "execution_count": 14,
   "metadata": {},
   "outputs": [],
   "source": [
    "df_b = df[df['grade']=='B']\n",
    "row_b = df_b.head(1)"
   ]
  },
  {
   "cell_type": "code",
   "execution_count": 15,
   "metadata": {},
   "outputs": [],
   "source": [
    "df_d = df[df['grade']=='D']\n",
    "row_d = df_d.head(1)"
   ]
  },
  {
   "cell_type": "code",
   "execution_count": 24,
   "metadata": {},
   "outputs": [
    {
     "data": {
      "text/html": [
       "<div>\n",
       "<style scoped>\n",
       "    .dataframe tbody tr th:only-of-type {\n",
       "        vertical-align: middle;\n",
       "    }\n",
       "\n",
       "    .dataframe tbody tr th {\n",
       "        vertical-align: top;\n",
       "    }\n",
       "\n",
       "    .dataframe thead th {\n",
       "        text-align: right;\n",
       "    }\n",
       "</style>\n",
       "<table border=\"1\" class=\"dataframe\">\n",
       "  <thead>\n",
       "    <tr style=\"text-align: right;\">\n",
       "      <th></th>\n",
       "      <th>loan_amnt</th>\n",
       "      <th>int_rate</th>\n",
       "      <th>installment</th>\n",
       "      <th>grade</th>\n",
       "      <th>sub_grade</th>\n",
       "      <th>emp_length</th>\n",
       "      <th>annual_inc</th>\n",
       "      <th>dti</th>\n",
       "      <th>delinq_2yrs</th>\n",
       "      <th>earliest_cr_line</th>\n",
       "      <th>revol_util</th>\n",
       "      <th>total_pymnt</th>\n",
       "      <th>total_rec_prncp</th>\n",
       "      <th>default</th>\n",
       "    </tr>\n",
       "  </thead>\n",
       "  <tbody>\n",
       "    <tr>\n",
       "      <th>4</th>\n",
       "      <td>6000.0</td>\n",
       "      <td>0.0739</td>\n",
       "      <td>186.34</td>\n",
       "      <td>A</td>\n",
       "      <td>A4</td>\n",
       "      <td>3.0</td>\n",
       "      <td>72000.0</td>\n",
       "      <td>10.68</td>\n",
       "      <td>0.0</td>\n",
       "      <td>11</td>\n",
       "      <td>0.236</td>\n",
       "      <td>6369.416519</td>\n",
       "      <td>6000.0</td>\n",
       "      <td>0</td>\n",
       "    </tr>\n",
       "    <tr>\n",
       "      <th>2</th>\n",
       "      <td>8000.0</td>\n",
       "      <td>0.1075</td>\n",
       "      <td>260.97</td>\n",
       "      <td>B</td>\n",
       "      <td>B4</td>\n",
       "      <td>5.0</td>\n",
       "      <td>73000.0</td>\n",
       "      <td>10.85</td>\n",
       "      <td>0.0</td>\n",
       "      <td>14</td>\n",
       "      <td>0.080</td>\n",
       "      <td>9421.150893</td>\n",
       "      <td>8000.0</td>\n",
       "      <td>0</td>\n",
       "    </tr>\n",
       "    <tr>\n",
       "      <th>0</th>\n",
       "      <td>12800.0</td>\n",
       "      <td>0.1199</td>\n",
       "      <td>425.09</td>\n",
       "      <td>C</td>\n",
       "      <td>C1</td>\n",
       "      <td>6.0</td>\n",
       "      <td>53000.0</td>\n",
       "      <td>20.99</td>\n",
       "      <td>0.0</td>\n",
       "      <td>17</td>\n",
       "      <td>0.791</td>\n",
       "      <td>15289.811232</td>\n",
       "      <td>12800.0</td>\n",
       "      <td>0</td>\n",
       "    </tr>\n",
       "    <tr>\n",
       "      <th>5</th>\n",
       "      <td>5625.0</td>\n",
       "      <td>0.1825</td>\n",
       "      <td>204.07</td>\n",
       "      <td>D</td>\n",
       "      <td>D3</td>\n",
       "      <td>10.0</td>\n",
       "      <td>53328.0</td>\n",
       "      <td>10.51</td>\n",
       "      <td>0.0</td>\n",
       "      <td>14</td>\n",
       "      <td>0.269</td>\n",
       "      <td>7235.031678</td>\n",
       "      <td>5625.0</td>\n",
       "      <td>0</td>\n",
       "    </tr>\n",
       "  </tbody>\n",
       "</table>\n",
       "</div>"
      ],
      "text/plain": [
       "   loan_amnt  int_rate  installment grade sub_grade  emp_length  annual_inc  \\\n",
       "4     6000.0    0.0739       186.34     A        A4         3.0     72000.0   \n",
       "2     8000.0    0.1075       260.97     B        B4         5.0     73000.0   \n",
       "0    12800.0    0.1199       425.09     C        C1         6.0     53000.0   \n",
       "5     5625.0    0.1825       204.07     D        D3        10.0     53328.0   \n",
       "\n",
       "     dti  delinq_2yrs  earliest_cr_line  revol_util   total_pymnt  \\\n",
       "4  10.68          0.0                11       0.236   6369.416519   \n",
       "2  10.85          0.0                14       0.080   9421.150893   \n",
       "0  20.99          0.0                17       0.791  15289.811232   \n",
       "5  10.51          0.0                14       0.269   7235.031678   \n",
       "\n",
       "   total_rec_prncp  default  \n",
       "4           6000.0        0  \n",
       "2           8000.0        0  \n",
       "0          12800.0        0  \n",
       "5           5625.0        0  "
      ]
     },
     "execution_count": 24,
     "metadata": {},
     "output_type": "execute_result"
    }
   ],
   "source": [
    "table = pd.concat([row_a, row_b, row_c, row_d])\n",
    "table"
   ]
  },
  {
   "cell_type": "code",
   "execution_count": 40,
   "metadata": {},
   "outputs": [
    {
     "data": {
      "text/html": [
       "<div>\n",
       "<style scoped>\n",
       "    .dataframe tbody tr th:only-of-type {\n",
       "        vertical-align: middle;\n",
       "    }\n",
       "\n",
       "    .dataframe tbody tr th {\n",
       "        vertical-align: top;\n",
       "    }\n",
       "\n",
       "    .dataframe thead th {\n",
       "        text-align: right;\n",
       "    }\n",
       "</style>\n",
       "<table border=\"1\" class=\"dataframe\">\n",
       "  <thead>\n",
       "    <tr style=\"text-align: right;\">\n",
       "      <th></th>\n",
       "      <th>loan_amnt</th>\n",
       "      <th>int_rate</th>\n",
       "      <th>installment</th>\n",
       "      <th>grade</th>\n",
       "      <th>sub_grade</th>\n",
       "      <th>emp_length</th>\n",
       "      <th>annual_inc</th>\n",
       "      <th>dti</th>\n",
       "      <th>delinq_2yrs</th>\n",
       "      <th>earliest_cr_line</th>\n",
       "      <th>revol_util</th>\n",
       "      <th>total_pymnt</th>\n",
       "      <th>total_rec_prncp</th>\n",
       "      <th>default</th>\n",
       "      <th>new</th>\n",
       "      <th>total_interest_due</th>\n",
       "    </tr>\n",
       "  </thead>\n",
       "  <tbody>\n",
       "    <tr>\n",
       "      <th>4</th>\n",
       "      <td>6000.0</td>\n",
       "      <td>0.0739</td>\n",
       "      <td>186.34</td>\n",
       "      <td>A</td>\n",
       "      <td>A4</td>\n",
       "      <td>3.0</td>\n",
       "      <td>72000.0</td>\n",
       "      <td>10.68</td>\n",
       "      <td>0.0</td>\n",
       "      <td>11</td>\n",
       "      <td>0.236</td>\n",
       "      <td>6369.416519</td>\n",
       "      <td>6000.0</td>\n",
       "      <td>0</td>\n",
       "      <td>443.4000</td>\n",
       "      <td>708.24</td>\n",
       "    </tr>\n",
       "    <tr>\n",
       "      <th>2</th>\n",
       "      <td>8000.0</td>\n",
       "      <td>0.1075</td>\n",
       "      <td>260.97</td>\n",
       "      <td>B</td>\n",
       "      <td>B4</td>\n",
       "      <td>5.0</td>\n",
       "      <td>73000.0</td>\n",
       "      <td>10.85</td>\n",
       "      <td>0.0</td>\n",
       "      <td>14</td>\n",
       "      <td>0.080</td>\n",
       "      <td>9421.150893</td>\n",
       "      <td>8000.0</td>\n",
       "      <td>0</td>\n",
       "      <td>860.0000</td>\n",
       "      <td>1394.92</td>\n",
       "    </tr>\n",
       "    <tr>\n",
       "      <th>0</th>\n",
       "      <td>12800.0</td>\n",
       "      <td>0.1199</td>\n",
       "      <td>425.09</td>\n",
       "      <td>C</td>\n",
       "      <td>C1</td>\n",
       "      <td>6.0</td>\n",
       "      <td>53000.0</td>\n",
       "      <td>20.99</td>\n",
       "      <td>0.0</td>\n",
       "      <td>17</td>\n",
       "      <td>0.791</td>\n",
       "      <td>15289.811232</td>\n",
       "      <td>12800.0</td>\n",
       "      <td>0</td>\n",
       "      <td>1534.7200</td>\n",
       "      <td>2503.24</td>\n",
       "    </tr>\n",
       "    <tr>\n",
       "      <th>5</th>\n",
       "      <td>5625.0</td>\n",
       "      <td>0.1825</td>\n",
       "      <td>204.07</td>\n",
       "      <td>D</td>\n",
       "      <td>D3</td>\n",
       "      <td>10.0</td>\n",
       "      <td>53328.0</td>\n",
       "      <td>10.51</td>\n",
       "      <td>0.0</td>\n",
       "      <td>14</td>\n",
       "      <td>0.269</td>\n",
       "      <td>7235.031678</td>\n",
       "      <td>5625.0</td>\n",
       "      <td>0</td>\n",
       "      <td>1026.5625</td>\n",
       "      <td>1721.52</td>\n",
       "    </tr>\n",
       "  </tbody>\n",
       "</table>\n",
       "</div>"
      ],
      "text/plain": [
       "   loan_amnt  int_rate  installment grade sub_grade  emp_length  annual_inc  \\\n",
       "4     6000.0    0.0739       186.34     A        A4         3.0     72000.0   \n",
       "2     8000.0    0.1075       260.97     B        B4         5.0     73000.0   \n",
       "0    12800.0    0.1199       425.09     C        C1         6.0     53000.0   \n",
       "5     5625.0    0.1825       204.07     D        D3        10.0     53328.0   \n",
       "\n",
       "     dti  delinq_2yrs  earliest_cr_line  revol_util   total_pymnt  \\\n",
       "4  10.68          0.0                11       0.236   6369.416519   \n",
       "2  10.85          0.0                14       0.080   9421.150893   \n",
       "0  20.99          0.0                17       0.791  15289.811232   \n",
       "5  10.51          0.0                14       0.269   7235.031678   \n",
       "\n",
       "   total_rec_prncp  default        new  total_interest_due  \n",
       "4           6000.0        0   443.4000              708.24  \n",
       "2           8000.0        0   860.0000             1394.92  \n",
       "0          12800.0        0  1534.7200             2503.24  \n",
       "5           5625.0        0  1026.5625             1721.52  "
      ]
     },
     "execution_count": 40,
     "metadata": {},
     "output_type": "execute_result"
    }
   ],
   "source": [
    "table['total_interest_due'] = table['installment']*36-table['loan_amnt']\n",
    "table"
   ]
  },
  {
   "cell_type": "code",
   "execution_count": 39,
   "metadata": {},
   "outputs": [
    {
     "data": {
      "text/html": [
       "<div>\n",
       "<style scoped>\n",
       "    .dataframe tbody tr th:only-of-type {\n",
       "        vertical-align: middle;\n",
       "    }\n",
       "\n",
       "    .dataframe tbody tr th {\n",
       "        vertical-align: top;\n",
       "    }\n",
       "\n",
       "    .dataframe thead th {\n",
       "        text-align: right;\n",
       "    }\n",
       "</style>\n",
       "<table border=\"1\" class=\"dataframe\">\n",
       "  <thead>\n",
       "    <tr style=\"text-align: right;\">\n",
       "      <th></th>\n",
       "      <th>loan_amnt</th>\n",
       "      <th>int_rate</th>\n",
       "      <th>installment</th>\n",
       "      <th>grade</th>\n",
       "      <th>sub_grade</th>\n",
       "      <th>total_interest_due</th>\n",
       "    </tr>\n",
       "  </thead>\n",
       "  <tbody>\n",
       "    <tr>\n",
       "      <th>4</th>\n",
       "      <td>6000.0</td>\n",
       "      <td>0.0739</td>\n",
       "      <td>186.34</td>\n",
       "      <td>A</td>\n",
       "      <td>A4</td>\n",
       "      <td>708.24</td>\n",
       "    </tr>\n",
       "    <tr>\n",
       "      <th>2</th>\n",
       "      <td>8000.0</td>\n",
       "      <td>0.1075</td>\n",
       "      <td>260.97</td>\n",
       "      <td>B</td>\n",
       "      <td>B4</td>\n",
       "      <td>1394.92</td>\n",
       "    </tr>\n",
       "    <tr>\n",
       "      <th>0</th>\n",
       "      <td>12800.0</td>\n",
       "      <td>0.1199</td>\n",
       "      <td>425.09</td>\n",
       "      <td>C</td>\n",
       "      <td>C1</td>\n",
       "      <td>2503.24</td>\n",
       "    </tr>\n",
       "    <tr>\n",
       "      <th>5</th>\n",
       "      <td>5625.0</td>\n",
       "      <td>0.1825</td>\n",
       "      <td>204.07</td>\n",
       "      <td>D</td>\n",
       "      <td>D3</td>\n",
       "      <td>1721.52</td>\n",
       "    </tr>\n",
       "  </tbody>\n",
       "</table>\n",
       "</div>"
      ],
      "text/plain": [
       "   loan_amnt  int_rate  installment grade sub_grade  total_interest_due\n",
       "4     6000.0    0.0739       186.34     A        A4              708.24\n",
       "2     8000.0    0.1075       260.97     B        B4             1394.92\n",
       "0    12800.0    0.1199       425.09     C        C1             2503.24\n",
       "5     5625.0    0.1825       204.07     D        D3             1721.52"
      ]
     },
     "execution_count": 39,
     "metadata": {},
     "output_type": "execute_result"
    }
   ],
   "source": [
    "table[['loan_amnt', 'int_rate', 'installment','grade',  'sub_grade', 'total_interest_due']]"
   ]
  },
  {
   "cell_type": "code",
   "execution_count": null,
   "metadata": {},
   "outputs": [],
   "source": []
  },
  {
   "cell_type": "code",
   "execution_count": 43,
   "metadata": {},
   "outputs": [
    {
     "data": {
      "text/html": [
       "<div>\n",
       "<style scoped>\n",
       "    .dataframe tbody tr th:only-of-type {\n",
       "        vertical-align: middle;\n",
       "    }\n",
       "\n",
       "    .dataframe tbody tr th {\n",
       "        vertical-align: top;\n",
       "    }\n",
       "\n",
       "    .dataframe thead th {\n",
       "        text-align: right;\n",
       "    }\n",
       "</style>\n",
       "<table border=\"1\" class=\"dataframe\">\n",
       "  <thead>\n",
       "    <tr style=\"text-align: right;\">\n",
       "      <th></th>\n",
       "      <th>4</th>\n",
       "      <th>2</th>\n",
       "      <th>0</th>\n",
       "      <th>5</th>\n",
       "    </tr>\n",
       "  </thead>\n",
       "  <tbody>\n",
       "    <tr>\n",
       "      <th>loan_amnt</th>\n",
       "      <td>6000</td>\n",
       "      <td>8000</td>\n",
       "      <td>12800</td>\n",
       "      <td>5625</td>\n",
       "    </tr>\n",
       "    <tr>\n",
       "      <th>int_rate</th>\n",
       "      <td>0.0739</td>\n",
       "      <td>0.1075</td>\n",
       "      <td>0.1199</td>\n",
       "      <td>0.1825</td>\n",
       "    </tr>\n",
       "    <tr>\n",
       "      <th>installment</th>\n",
       "      <td>186.34</td>\n",
       "      <td>260.97</td>\n",
       "      <td>425.09</td>\n",
       "      <td>204.07</td>\n",
       "    </tr>\n",
       "    <tr>\n",
       "      <th>grade</th>\n",
       "      <td>A</td>\n",
       "      <td>B</td>\n",
       "      <td>C</td>\n",
       "      <td>D</td>\n",
       "    </tr>\n",
       "    <tr>\n",
       "      <th>sub_grade</th>\n",
       "      <td>A4</td>\n",
       "      <td>B4</td>\n",
       "      <td>C1</td>\n",
       "      <td>D3</td>\n",
       "    </tr>\n",
       "    <tr>\n",
       "      <th>total_interest_due</th>\n",
       "      <td>708.24</td>\n",
       "      <td>1394.92</td>\n",
       "      <td>2503.24</td>\n",
       "      <td>1721.52</td>\n",
       "    </tr>\n",
       "  </tbody>\n",
       "</table>\n",
       "</div>"
      ],
      "text/plain": [
       "                         4        2        0        5\n",
       "loan_amnt             6000     8000    12800     5625\n",
       "int_rate            0.0739   0.1075   0.1199   0.1825\n",
       "installment         186.34   260.97   425.09   204.07\n",
       "grade                    A        B        C        D\n",
       "sub_grade               A4       B4       C1       D3\n",
       "total_interest_due  708.24  1394.92  2503.24  1721.52"
      ]
     },
     "metadata": {},
     "output_type": "display_data"
    }
   ],
   "source": [
    "import pandas as pd \n",
    "#import data\n",
    "df = pd.read_csv(\"/Users/liloli/Desktop/GR5293/hw2/LendingClub_2016Q1.csv\") \n",
    "# pick the first four loans with different grades\n",
    "df_a = df[df['grade']=='A']\n",
    "row_a = df_a.head(1)\n",
    "df_b = df[df['grade']=='B']\n",
    "row_b = df_b.head(1)\n",
    "df_c = df[df['grade']=='C']\n",
    "row_c = df_c.head(1)\n",
    "df_d = df[df['grade']=='D']\n",
    "row_d = df_d.head(1)\n",
    "table = pd.concat([row_a, row_b, row_c, row_d])\n",
    "#calculate total interest due\n",
    "table['total_interest_due'] = table['installment']*36-table['loan_amnt']\n",
    "#select columns needed\n",
    "table = table[['loan_amnt', 'int_rate', 'installment','grade',  'sub_grade', \n",
    "               'total_interest_due']]\n",
    "display(table.transpose())"
   ]
  },
  {
   "cell_type": "code",
   "execution_count": 45,
   "metadata": {},
   "outputs": [
    {
     "data": {
      "text/html": [
       "<div>\n",
       "<style scoped>\n",
       "    .dataframe tbody tr th:only-of-type {\n",
       "        vertical-align: middle;\n",
       "    }\n",
       "\n",
       "    .dataframe tbody tr th {\n",
       "        vertical-align: top;\n",
       "    }\n",
       "\n",
       "    .dataframe thead th {\n",
       "        text-align: right;\n",
       "    }\n",
       "</style>\n",
       "<table border=\"1\" class=\"dataframe\">\n",
       "  <thead>\n",
       "    <tr style=\"text-align: right;\">\n",
       "      <th></th>\n",
       "      <th>loan_amnt</th>\n",
       "      <th>int_rate</th>\n",
       "      <th>installment</th>\n",
       "      <th>grade</th>\n",
       "      <th>sub_grade</th>\n",
       "      <th>emp_length</th>\n",
       "      <th>annual_inc</th>\n",
       "      <th>dti</th>\n",
       "      <th>delinq_2yrs</th>\n",
       "      <th>earliest_cr_line</th>\n",
       "      <th>revol_util</th>\n",
       "      <th>total_pymnt</th>\n",
       "      <th>total_rec_prncp</th>\n",
       "      <th>default</th>\n",
       "    </tr>\n",
       "  </thead>\n",
       "  <tbody>\n",
       "    <tr>\n",
       "      <th>4</th>\n",
       "      <td>6000.0</td>\n",
       "      <td>0.0739</td>\n",
       "      <td>186.34</td>\n",
       "      <td>A</td>\n",
       "      <td>A4</td>\n",
       "      <td>3.0</td>\n",
       "      <td>72000.0</td>\n",
       "      <td>10.68</td>\n",
       "      <td>0.0</td>\n",
       "      <td>11</td>\n",
       "      <td>0.236</td>\n",
       "      <td>6369.416519</td>\n",
       "      <td>6000.00</td>\n",
       "      <td>0</td>\n",
       "    </tr>\n",
       "    <tr>\n",
       "      <th>9</th>\n",
       "      <td>4500.0</td>\n",
       "      <td>0.0697</td>\n",
       "      <td>138.89</td>\n",
       "      <td>A</td>\n",
       "      <td>A3</td>\n",
       "      <td>10.0</td>\n",
       "      <td>72000.0</td>\n",
       "      <td>12.57</td>\n",
       "      <td>1.0</td>\n",
       "      <td>21</td>\n",
       "      <td>0.351</td>\n",
       "      <td>4996.369224</td>\n",
       "      <td>4500.00</td>\n",
       "      <td>0</td>\n",
       "    </tr>\n",
       "    <tr>\n",
       "      <th>13</th>\n",
       "      <td>22000.0</td>\n",
       "      <td>0.0649</td>\n",
       "      <td>674.18</td>\n",
       "      <td>A</td>\n",
       "      <td>A2</td>\n",
       "      <td>10.0</td>\n",
       "      <td>134000.0</td>\n",
       "      <td>26.33</td>\n",
       "      <td>0.0</td>\n",
       "      <td>47</td>\n",
       "      <td>0.670</td>\n",
       "      <td>24257.463888</td>\n",
       "      <td>22000.00</td>\n",
       "      <td>0</td>\n",
       "    </tr>\n",
       "    <tr>\n",
       "      <th>15</th>\n",
       "      <td>8000.0</td>\n",
       "      <td>0.0697</td>\n",
       "      <td>246.91</td>\n",
       "      <td>A</td>\n",
       "      <td>A3</td>\n",
       "      <td>2.0</td>\n",
       "      <td>75000.0</td>\n",
       "      <td>26.43</td>\n",
       "      <td>1.0</td>\n",
       "      <td>23</td>\n",
       "      <td>0.649</td>\n",
       "      <td>3696.320000</td>\n",
       "      <td>2483.67</td>\n",
       "      <td>1</td>\n",
       "    </tr>\n",
       "    <tr>\n",
       "      <th>26</th>\n",
       "      <td>10000.0</td>\n",
       "      <td>0.0649</td>\n",
       "      <td>306.45</td>\n",
       "      <td>A</td>\n",
       "      <td>A2</td>\n",
       "      <td>1.0</td>\n",
       "      <td>40000.0</td>\n",
       "      <td>23.13</td>\n",
       "      <td>0.0</td>\n",
       "      <td>14</td>\n",
       "      <td>0.377</td>\n",
       "      <td>10810.322222</td>\n",
       "      <td>10000.00</td>\n",
       "      <td>0</td>\n",
       "    </tr>\n",
       "  </tbody>\n",
       "</table>\n",
       "</div>"
      ],
      "text/plain": [
       "    loan_amnt  int_rate  installment grade sub_grade  emp_length  annual_inc  \\\n",
       "4      6000.0    0.0739       186.34     A        A4         3.0     72000.0   \n",
       "9      4500.0    0.0697       138.89     A        A3        10.0     72000.0   \n",
       "13    22000.0    0.0649       674.18     A        A2        10.0    134000.0   \n",
       "15     8000.0    0.0697       246.91     A        A3         2.0     75000.0   \n",
       "26    10000.0    0.0649       306.45     A        A2         1.0     40000.0   \n",
       "\n",
       "      dti  delinq_2yrs  earliest_cr_line  revol_util   total_pymnt  \\\n",
       "4   10.68          0.0                11       0.236   6369.416519   \n",
       "9   12.57          1.0                21       0.351   4996.369224   \n",
       "13  26.33          0.0                47       0.670  24257.463888   \n",
       "15  26.43          1.0                23       0.649   3696.320000   \n",
       "26  23.13          0.0                14       0.377  10810.322222   \n",
       "\n",
       "    total_rec_prncp  default  \n",
       "4           6000.00        0  \n",
       "9           4500.00        0  \n",
       "13         22000.00        0  \n",
       "15          2483.67        1  \n",
       "26         10000.00        0  "
      ]
     },
     "execution_count": 45,
     "metadata": {},
     "output_type": "execute_result"
    }
   ],
   "source": [
    "mydata = df[df['grade']=='A']\n",
    "mydata.head()"
   ]
  },
  {
   "cell_type": "code",
   "execution_count": 46,
   "metadata": {},
   "outputs": [
    {
     "data": {
      "text/html": [
       "<div>\n",
       "<style scoped>\n",
       "    .dataframe tbody tr th:only-of-type {\n",
       "        vertical-align: middle;\n",
       "    }\n",
       "\n",
       "    .dataframe tbody tr th {\n",
       "        vertical-align: top;\n",
       "    }\n",
       "\n",
       "    .dataframe thead th {\n",
       "        text-align: right;\n",
       "    }\n",
       "</style>\n",
       "<table border=\"1\" class=\"dataframe\">\n",
       "  <thead>\n",
       "    <tr style=\"text-align: right;\">\n",
       "      <th></th>\n",
       "      <th>loan_amnt</th>\n",
       "      <th>int_rate</th>\n",
       "      <th>installment</th>\n",
       "      <th>emp_length</th>\n",
       "      <th>annual_inc</th>\n",
       "      <th>dti</th>\n",
       "      <th>delinq_2yrs</th>\n",
       "      <th>earliest_cr_line</th>\n",
       "      <th>revol_util</th>\n",
       "      <th>total_pymnt</th>\n",
       "      <th>total_rec_prncp</th>\n",
       "      <th>default</th>\n",
       "    </tr>\n",
       "  </thead>\n",
       "  <tbody>\n",
       "    <tr>\n",
       "      <th>count</th>\n",
       "      <td>24705.000000</td>\n",
       "      <td>24705.000000</td>\n",
       "      <td>24705.000000</td>\n",
       "      <td>23041.000000</td>\n",
       "      <td>2.470500e+04</td>\n",
       "      <td>24703.000000</td>\n",
       "      <td>24705.000000</td>\n",
       "      <td>24705.000000</td>\n",
       "      <td>24696.000000</td>\n",
       "      <td>24705.000000</td>\n",
       "      <td>24705.000000</td>\n",
       "      <td>24705.000000</td>\n",
       "    </tr>\n",
       "    <tr>\n",
       "      <th>mean</th>\n",
       "      <td>14880.756932</td>\n",
       "      <td>0.066266</td>\n",
       "      <td>456.982488</td>\n",
       "      <td>6.243739</td>\n",
       "      <td>9.349856e+04</td>\n",
       "      <td>16.086117</td>\n",
       "      <td>0.241044</td>\n",
       "      <td>22.292329</td>\n",
       "      <td>0.404177</td>\n",
       "      <td>15827.462835</td>\n",
       "      <td>14476.167620</td>\n",
       "      <td>0.054038</td>\n",
       "    </tr>\n",
       "    <tr>\n",
       "      <th>std</th>\n",
       "      <td>8231.789034</td>\n",
       "      <td>0.010079</td>\n",
       "      <td>253.406535</td>\n",
       "      <td>3.713650</td>\n",
       "      <td>8.943261e+04</td>\n",
       "      <td>7.764258</td>\n",
       "      <td>0.722890</td>\n",
       "      <td>8.164563</td>\n",
       "      <td>0.225835</td>\n",
       "      <td>9047.096872</td>\n",
       "      <td>8319.370221</td>\n",
       "      <td>0.226097</td>\n",
       "    </tr>\n",
       "    <tr>\n",
       "      <th>min</th>\n",
       "      <td>1000.000000</td>\n",
       "      <td>0.053200</td>\n",
       "      <td>30.120000</td>\n",
       "      <td>0.000000</td>\n",
       "      <td>0.000000e+00</td>\n",
       "      <td>0.000000</td>\n",
       "      <td>0.000000</td>\n",
       "      <td>6.000000</td>\n",
       "      <td>0.000000</td>\n",
       "      <td>0.000000</td>\n",
       "      <td>0.000000</td>\n",
       "      <td>0.000000</td>\n",
       "    </tr>\n",
       "    <tr>\n",
       "      <th>25%</th>\n",
       "      <td>8000.000000</td>\n",
       "      <td>0.053200</td>\n",
       "      <td>250.360000</td>\n",
       "      <td>3.000000</td>\n",
       "      <td>5.500000e+04</td>\n",
       "      <td>10.450000</td>\n",
       "      <td>0.000000</td>\n",
       "      <td>16.000000</td>\n",
       "      <td>0.233000</td>\n",
       "      <td>8722.485954</td>\n",
       "      <td>8000.000000</td>\n",
       "      <td>0.000000</td>\n",
       "    </tr>\n",
       "    <tr>\n",
       "      <th>50%</th>\n",
       "      <td>13000.000000</td>\n",
       "      <td>0.069700</td>\n",
       "      <td>395.060000</td>\n",
       "      <td>7.000000</td>\n",
       "      <td>7.800000e+04</td>\n",
       "      <td>15.390000</td>\n",
       "      <td>0.000000</td>\n",
       "      <td>21.000000</td>\n",
       "      <td>0.381000</td>\n",
       "      <td>13480.812728</td>\n",
       "      <td>12000.000000</td>\n",
       "      <td>0.000000</td>\n",
       "    </tr>\n",
       "    <tr>\n",
       "      <th>75%</th>\n",
       "      <td>20000.000000</td>\n",
       "      <td>0.074900</td>\n",
       "      <td>621.120000</td>\n",
       "      <td>10.000000</td>\n",
       "      <td>1.100000e+05</td>\n",
       "      <td>21.300000</td>\n",
       "      <td>0.000000</td>\n",
       "      <td>27.000000</td>\n",
       "      <td>0.557000</td>\n",
       "      <td>21768.340001</td>\n",
       "      <td>20000.000000</td>\n",
       "      <td>0.000000</td>\n",
       "    </tr>\n",
       "    <tr>\n",
       "      <th>max</th>\n",
       "      <td>40000.000000</td>\n",
       "      <td>0.079100</td>\n",
       "      <td>1251.430000</td>\n",
       "      <td>10.000000</td>\n",
       "      <td>6.702150e+06</td>\n",
       "      <td>215.880000</td>\n",
       "      <td>20.000000</td>\n",
       "      <td>71.000000</td>\n",
       "      <td>1.720000</td>\n",
       "      <td>45165.280181</td>\n",
       "      <td>40000.000000</td>\n",
       "      <td>1.000000</td>\n",
       "    </tr>\n",
       "  </tbody>\n",
       "</table>\n",
       "</div>"
      ],
      "text/plain": [
       "          loan_amnt      int_rate   installment    emp_length    annual_inc  \\\n",
       "count  24705.000000  24705.000000  24705.000000  23041.000000  2.470500e+04   \n",
       "mean   14880.756932      0.066266    456.982488      6.243739  9.349856e+04   \n",
       "std     8231.789034      0.010079    253.406535      3.713650  8.943261e+04   \n",
       "min     1000.000000      0.053200     30.120000      0.000000  0.000000e+00   \n",
       "25%     8000.000000      0.053200    250.360000      3.000000  5.500000e+04   \n",
       "50%    13000.000000      0.069700    395.060000      7.000000  7.800000e+04   \n",
       "75%    20000.000000      0.074900    621.120000     10.000000  1.100000e+05   \n",
       "max    40000.000000      0.079100   1251.430000     10.000000  6.702150e+06   \n",
       "\n",
       "                dti   delinq_2yrs  earliest_cr_line    revol_util  \\\n",
       "count  24703.000000  24705.000000      24705.000000  24696.000000   \n",
       "mean      16.086117      0.241044         22.292329      0.404177   \n",
       "std        7.764258      0.722890          8.164563      0.225835   \n",
       "min        0.000000      0.000000          6.000000      0.000000   \n",
       "25%       10.450000      0.000000         16.000000      0.233000   \n",
       "50%       15.390000      0.000000         21.000000      0.381000   \n",
       "75%       21.300000      0.000000         27.000000      0.557000   \n",
       "max      215.880000     20.000000         71.000000      1.720000   \n",
       "\n",
       "        total_pymnt  total_rec_prncp       default  \n",
       "count  24705.000000     24705.000000  24705.000000  \n",
       "mean   15827.462835     14476.167620      0.054038  \n",
       "std     9047.096872      8319.370221      0.226097  \n",
       "min        0.000000         0.000000      0.000000  \n",
       "25%     8722.485954      8000.000000      0.000000  \n",
       "50%    13480.812728     12000.000000      0.000000  \n",
       "75%    21768.340001     20000.000000      0.000000  \n",
       "max    45165.280181     40000.000000      1.000000  "
      ]
     },
     "execution_count": 46,
     "metadata": {},
     "output_type": "execute_result"
    }
   ],
   "source": [
    "mydata.describe()"
   ]
  },
  {
   "cell_type": "code",
   "execution_count": 47,
   "metadata": {},
   "outputs": [
    {
     "data": {
      "image/png": "[encoded data removed]",
      "text/plain": [
       "<Figure size 432x288 with 1 Axes>"
      ]
     },
     "metadata": {
      "needs_background": "light"
     },
     "output_type": "display_data"
    }
   ],
   "source": [
    "import seaborn as sns\n",
    "sns.distplot(mydata['installment'])"
   ]
  },
  {
   "cell_type": "code",
   "execution_count": null,
   "metadata": {},
   "outputs": [],
   "source": []
  },
  {
   "cell_type": "code",
   "execution_count": null,
   "metadata": {},
   "outputs": [],
   "source": []
  }
 ],
 "metadata": {
  "kernelspec": {
   "display_name": "Python 3",
   "language": "python",
   "name": "python3"
  },
  "language_info": {
   "codemirror_mode": {
    "name": "ipython",
    "version": 3
   },
   "file_extension": ".py",
   "mimetype": "text/x-python",
   "name": "python",
   "nbconvert_exporter": "python",
   "pygments_lexer": "ipython3",
   "version": "3.7.6"
  }
 },
 "nbformat": 4,
 "nbformat_minor": 2
}
