{
 "cells": [
  {
   "cell_type": "markdown",
   "metadata": {},
   "source": [
    "## Introduction to Lending Club Data\n",
    "\n",
    "Context on the data in this assignment is provided in the lecture notes from Unit 1. Please review those notes before completing the assignment.\n",
    "\n",
    "The data used in this exercise represents information from LendingClub (link: https://www.lendingclub.com/), provided by a company that provides analytics to investors in ABS, a company called dv01 (link: https://dv01.co/). \n",
    "\n",
    "IMPORTANT NOTE ON DATA PERMISSIONING: The data used in this exercise is meant for use in this class only, and it should not be persisted after the class ends or shared with anyone not enrolled.  "
   ]
  },
  {
   "cell_type": "code",
   "execution_count": 5,
   "metadata": {},
   "outputs": [],
   "source": [
    "# Import common libraries\n",
    "\n",
    "import pandas as pd\n",
    "import numpy as np\n",
    "import matplotlib.pyplot as plt\n",
    "import matplotlib.ticker as tic\n",
    "import seaborn as sns"
   ]
  },
  {
   "cell_type": "code",
   "execution_count": 6,
   "metadata": {},
   "outputs": [],
   "source": [
    "# Specify fields from .csv file to be analyzed \n",
    "# See LendingClub data dictionary for more information on each field\n",
    "\n",
    "fields = ['Original Loan Balance', 'Interest Rate', 'Term', 'Monthly Payment', 'Annual Income', \n",
    "          'Pre-Loan DTI', 'Original FICO', 'Number of Trade Lines Opened (Last 12 Months)', \n",
    "          'Employment Length', 'Housing Status', 'Loan Status']\n",
    "\n",
    "# Read in data \n",
    "# Change the path as needed\n",
    "file = \"/Users/liloli/Desktop/GR5293/hw1/club-2017-p2-update-2019-03-31.csv\"\n",
    "\n",
    "# raw_data object includes all rows, including missing values (NAs)\n",
    "raw_data = pd.read_csv(file, usecols = fields)\n",
    "\n",
    "# data object has no missing values (NAs); these were originally present in raw_data object\n",
    "data = raw_data.copy()\n",
    "data = raw_data.dropna(axis = 0, how = 'any', thresh = None, subset = None, inplace = False)\n",
    "\n",
    "# Keep only 3-year (36-month) loans for data analysis \n",
    "# data_36 object only has loans that have a term of 36 months (3 years) and no missing values (NAs) \n",
    "\n",
    "# Use this dataset as your starting point for the questions below. \n",
    "data_36 = data[data['Term'] == 36] "
   ]
  },
  {
   "cell_type": "code",
   "execution_count": 7,
   "metadata": {},
   "outputs": [
    {
     "data": {
      "text/html": [
       "<div>\n",
       "<style scoped>\n",
       "    .dataframe tbody tr th:only-of-type {\n",
       "        vertical-align: middle;\n",
       "    }\n",
       "\n",
       "    .dataframe tbody tr th {\n",
       "        vertical-align: top;\n",
       "    }\n",
       "\n",
       "    .dataframe thead th {\n",
       "        text-align: right;\n",
       "    }\n",
       "</style>\n",
       "<table border=\"1\" class=\"dataframe\">\n",
       "  <thead>\n",
       "    <tr style=\"text-align: right;\">\n",
       "      <th></th>\n",
       "      <th>Original Loan Balance</th>\n",
       "      <th>Loan Status</th>\n",
       "      <th>Term</th>\n",
       "      <th>Interest Rate</th>\n",
       "      <th>Monthly Payment</th>\n",
       "      <th>Annual Income</th>\n",
       "      <th>Pre-Loan DTI</th>\n",
       "      <th>Original FICO</th>\n",
       "      <th>Employment Length</th>\n",
       "      <th>Housing Status</th>\n",
       "      <th>Number of Trade Lines Opened (Last 12 Months)</th>\n",
       "    </tr>\n",
       "  </thead>\n",
       "  <tbody>\n",
       "    <tr>\n",
       "      <th>0</th>\n",
       "      <td>11200.0</td>\n",
       "      <td>Paid Off</td>\n",
       "      <td>36</td>\n",
       "      <td>0.1199</td>\n",
       "      <td>371.95</td>\n",
       "      <td>45000.0</td>\n",
       "      <td>0.3589</td>\n",
       "      <td>672</td>\n",
       "      <td>3.0</td>\n",
       "      <td>Rent</td>\n",
       "      <td>4</td>\n",
       "    </tr>\n",
       "    <tr>\n",
       "      <th>2</th>\n",
       "      <td>10000.0</td>\n",
       "      <td>Paid Off</td>\n",
       "      <td>36</td>\n",
       "      <td>0.1199</td>\n",
       "      <td>332.10</td>\n",
       "      <td>57200.0</td>\n",
       "      <td>0.3569</td>\n",
       "      <td>717</td>\n",
       "      <td>10.0</td>\n",
       "      <td>Rent</td>\n",
       "      <td>1</td>\n",
       "    </tr>\n",
       "    <tr>\n",
       "      <th>5</th>\n",
       "      <td>10000.0</td>\n",
       "      <td>Current</td>\n",
       "      <td>36</td>\n",
       "      <td>0.1602</td>\n",
       "      <td>351.67</td>\n",
       "      <td>100000.0</td>\n",
       "      <td>0.3593</td>\n",
       "      <td>662</td>\n",
       "      <td>9.0</td>\n",
       "      <td>Own - Mortgage</td>\n",
       "      <td>1</td>\n",
       "    </tr>\n",
       "    <tr>\n",
       "      <th>22</th>\n",
       "      <td>16000.0</td>\n",
       "      <td>Current</td>\n",
       "      <td>36</td>\n",
       "      <td>0.1359</td>\n",
       "      <td>543.67</td>\n",
       "      <td>90000.0</td>\n",
       "      <td>0.3651</td>\n",
       "      <td>712</td>\n",
       "      <td>2.0</td>\n",
       "      <td>Own - Mortgage</td>\n",
       "      <td>1</td>\n",
       "    </tr>\n",
       "    <tr>\n",
       "      <th>28</th>\n",
       "      <td>14400.0</td>\n",
       "      <td>Current</td>\n",
       "      <td>36</td>\n",
       "      <td>0.1262</td>\n",
       "      <td>482.57</td>\n",
       "      <td>35576.8</td>\n",
       "      <td>0.3924</td>\n",
       "      <td>702</td>\n",
       "      <td>2.0</td>\n",
       "      <td>Rent</td>\n",
       "      <td>0</td>\n",
       "    </tr>\n",
       "    <tr>\n",
       "      <th>...</th>\n",
       "      <td>...</td>\n",
       "      <td>...</td>\n",
       "      <td>...</td>\n",
       "      <td>...</td>\n",
       "      <td>...</td>\n",
       "      <td>...</td>\n",
       "      <td>...</td>\n",
       "      <td>...</td>\n",
       "      <td>...</td>\n",
       "      <td>...</td>\n",
       "      <td>...</td>\n",
       "    </tr>\n",
       "    <tr>\n",
       "      <th>22319</th>\n",
       "      <td>14000.0</td>\n",
       "      <td>Paid Off</td>\n",
       "      <td>36</td>\n",
       "      <td>0.0824</td>\n",
       "      <td>440.27</td>\n",
       "      <td>120000.0</td>\n",
       "      <td>0.1404</td>\n",
       "      <td>667</td>\n",
       "      <td>9.0</td>\n",
       "      <td>Own - Mortgage</td>\n",
       "      <td>2</td>\n",
       "    </tr>\n",
       "    <tr>\n",
       "      <th>22320</th>\n",
       "      <td>14000.0</td>\n",
       "      <td>Current</td>\n",
       "      <td>36</td>\n",
       "      <td>0.1144</td>\n",
       "      <td>461.27</td>\n",
       "      <td>62000.0</td>\n",
       "      <td>0.2160</td>\n",
       "      <td>682</td>\n",
       "      <td>1.0</td>\n",
       "      <td>Rent</td>\n",
       "      <td>3</td>\n",
       "    </tr>\n",
       "    <tr>\n",
       "      <th>22321</th>\n",
       "      <td>4000.0</td>\n",
       "      <td>Current</td>\n",
       "      <td>36</td>\n",
       "      <td>0.1144</td>\n",
       "      <td>131.79</td>\n",
       "      <td>43000.0</td>\n",
       "      <td>0.0505</td>\n",
       "      <td>692</td>\n",
       "      <td>5.0</td>\n",
       "      <td>Rent</td>\n",
       "      <td>1</td>\n",
       "    </tr>\n",
       "    <tr>\n",
       "      <th>22323</th>\n",
       "      <td>8500.0</td>\n",
       "      <td>Current</td>\n",
       "      <td>36</td>\n",
       "      <td>0.1149</td>\n",
       "      <td>280.26</td>\n",
       "      <td>60000.0</td>\n",
       "      <td>0.1370</td>\n",
       "      <td>677</td>\n",
       "      <td>3.0</td>\n",
       "      <td>Rent</td>\n",
       "      <td>2</td>\n",
       "    </tr>\n",
       "    <tr>\n",
       "      <th>22325</th>\n",
       "      <td>8500.0</td>\n",
       "      <td>Current</td>\n",
       "      <td>36</td>\n",
       "      <td>0.0532</td>\n",
       "      <td>255.98</td>\n",
       "      <td>110000.0</td>\n",
       "      <td>0.2232</td>\n",
       "      <td>727</td>\n",
       "      <td>2.0</td>\n",
       "      <td>Rent</td>\n",
       "      <td>0</td>\n",
       "    </tr>\n",
       "  </tbody>\n",
       "</table>\n",
       "<p>10469 rows × 11 columns</p>\n",
       "</div>"
      ],
      "text/plain": [
       "       Original Loan Balance Loan Status  Term  Interest Rate  \\\n",
       "0                    11200.0    Paid Off    36         0.1199   \n",
       "2                    10000.0    Paid Off    36         0.1199   \n",
       "5                    10000.0     Current    36         0.1602   \n",
       "22                   16000.0     Current    36         0.1359   \n",
       "28                   14400.0     Current    36         0.1262   \n",
       "...                      ...         ...   ...            ...   \n",
       "22319                14000.0    Paid Off    36         0.0824   \n",
       "22320                14000.0     Current    36         0.1144   \n",
       "22321                 4000.0     Current    36         0.1144   \n",
       "22323                 8500.0     Current    36         0.1149   \n",
       "22325                 8500.0     Current    36         0.0532   \n",
       "\n",
       "       Monthly Payment  Annual Income  Pre-Loan DTI  Original FICO  \\\n",
       "0               371.95        45000.0        0.3589            672   \n",
       "2               332.10        57200.0        0.3569            717   \n",
       "5               351.67       100000.0        0.3593            662   \n",
       "22              543.67        90000.0        0.3651            712   \n",
       "28              482.57        35576.8        0.3924            702   \n",
       "...                ...            ...           ...            ...   \n",
       "22319           440.27       120000.0        0.1404            667   \n",
       "22320           461.27        62000.0        0.2160            682   \n",
       "22321           131.79        43000.0        0.0505            692   \n",
       "22323           280.26        60000.0        0.1370            677   \n",
       "22325           255.98       110000.0        0.2232            727   \n",
       "\n",
       "       Employment Length  Housing Status  \\\n",
       "0                    3.0            Rent   \n",
       "2                   10.0            Rent   \n",
       "5                    9.0  Own - Mortgage   \n",
       "22                   2.0  Own - Mortgage   \n",
       "28                   2.0            Rent   \n",
       "...                  ...             ...   \n",
       "22319                9.0  Own - Mortgage   \n",
       "22320                1.0            Rent   \n",
       "22321                5.0            Rent   \n",
       "22323                3.0            Rent   \n",
       "22325                2.0            Rent   \n",
       "\n",
       "       Number of Trade Lines Opened (Last 12 Months)  \n",
       "0                                                  4  \n",
       "2                                                  1  \n",
       "5                                                  1  \n",
       "22                                                 1  \n",
       "28                                                 0  \n",
       "...                                              ...  \n",
       "22319                                              2  \n",
       "22320                                              3  \n",
       "22321                                              1  \n",
       "22323                                              2  \n",
       "22325                                              0  \n",
       "\n",
       "[10469 rows x 11 columns]"
      ]
     },
     "execution_count": 7,
     "metadata": {},
     "output_type": "execute_result"
    }
   ],
   "source": [
    "data_36 #自己加的，看下数据长啥样"
   ]
  },
  {
   "cell_type": "markdown",
   "metadata": {},
   "source": [
    "## Problem 1\n",
    "\n",
    "Note: for parts (b), (c), and (d), be sure to respond using the table format shown in the assignment document"
   ]
  },
  {
   "cell_type": "code",
   "execution_count": 9,
   "metadata": {},
   "outputs": [
    {
     "data": {
      "text/plain": [
       "10469"
      ]
     },
     "execution_count": 9,
     "metadata": {},
     "output_type": "execute_result"
    }
   ],
   "source": [
    "# How many loans (rows) are there?\n",
    "count_row = data_36.shape[0]\n",
    "count_row"
   ]
  },
  {
   "cell_type": "code",
   "execution_count": 10,
   "metadata": {},
   "outputs": [
    {
     "data": {
      "text/plain": [
       "11"
      ]
     },
     "execution_count": 10,
     "metadata": {},
     "output_type": "execute_result"
    }
   ],
   "source": [
    "# How many variables (columns) are there? \n",
    "count_col = data_36.shape[1]\n",
    "count_col"
   ]
  },
  {
   "cell_type": "code",
   "execution_count": 4,
   "metadata": {},
   "outputs": [],
   "source": [
    "# What are the data types of each column? \n",
    "# Which are numerical and which are non-ordered strings (categorical)? \n",
    "\n",
    "# Hint: Use the info() function! "
   ]
  },
  {
   "cell_type": "code",
   "execution_count": 14,
   "metadata": {},
   "outputs": [
    {
     "data": {
      "text/plain": [
       "Original Loan Balance                            float64\n",
       "Loan Status                                       object\n",
       "Term                                               int64\n",
       "Interest Rate                                    float64\n",
       "Monthly Payment                                  float64\n",
       "Annual Income                                    float64\n",
       "Pre-Loan DTI                                     float64\n",
       "Original FICO                                      int64\n",
       "Employment Length                                float64\n",
       "Housing Status                                    object\n",
       "Number of Trade Lines Opened (Last 12 Months)      int64\n",
       "dtype: object"
      ]
     },
     "execution_count": 14,
     "metadata": {},
     "output_type": "execute_result"
    }
   ],
   "source": [
    "# What are the data types of each column? \n",
    "data_36.dtypes"
   ]
  },
  {
   "cell_type": "code",
   "execution_count": 5,
   "metadata": {},
   "outputs": [],
   "source": [
    "# What are the units of each numerical column?\n",
    "# For example, numerical values could be in dollar amounts, counts, units of time, counts per unit time. \n",
    "\n",
    "# Hint: This is less of a coding question and more of a context question. Look at course notes and the data dictionary. \n",
    "# You may also get insights from using the describe() function shown below. "
   ]
  },
  {
   "cell_type": "code",
   "execution_count": 6,
   "metadata": {},
   "outputs": [
    {
     "data": {
      "text/html": [
       "<div>\n",
       "<style scoped>\n",
       "    .dataframe tbody tr th:only-of-type {\n",
       "        vertical-align: middle;\n",
       "    }\n",
       "\n",
       "    .dataframe tbody tr th {\n",
       "        vertical-align: top;\n",
       "    }\n",
       "\n",
       "    .dataframe thead th {\n",
       "        text-align: right;\n",
       "    }\n",
       "</style>\n",
       "<table border=\"1\" class=\"dataframe\">\n",
       "  <thead>\n",
       "    <tr style=\"text-align: right;\">\n",
       "      <th></th>\n",
       "      <th>Original Loan Balance</th>\n",
       "      <th>Term</th>\n",
       "      <th>Interest Rate</th>\n",
       "      <th>Monthly Payment</th>\n",
       "      <th>Annual Income</th>\n",
       "      <th>Pre-Loan DTI</th>\n",
       "      <th>Original FICO</th>\n",
       "      <th>Employment Length</th>\n",
       "      <th>Number of Trade Lines Opened (Last 12 Months)</th>\n",
       "    </tr>\n",
       "  </thead>\n",
       "  <tbody>\n",
       "    <tr>\n",
       "      <td>count</td>\n",
       "      <td>10469.000000</td>\n",
       "      <td>10469.0</td>\n",
       "      <td>10469.000000</td>\n",
       "      <td>10469.000000</td>\n",
       "      <td>1.046900e+04</td>\n",
       "      <td>10469.000000</td>\n",
       "      <td>10469.000000</td>\n",
       "      <td>10469.000000</td>\n",
       "      <td>10469.000000</td>\n",
       "    </tr>\n",
       "    <tr>\n",
       "      <td>mean</td>\n",
       "      <td>13111.314357</td>\n",
       "      <td>36.0</td>\n",
       "      <td>0.135828</td>\n",
       "      <td>443.871433</td>\n",
       "      <td>7.432351e+04</td>\n",
       "      <td>0.202874</td>\n",
       "      <td>697.410736</td>\n",
       "      <td>5.246728</td>\n",
       "      <td>2.183494</td>\n",
       "    </tr>\n",
       "    <tr>\n",
       "      <td>std</td>\n",
       "      <td>9608.036105</td>\n",
       "      <td>0.0</td>\n",
       "      <td>0.042958</td>\n",
       "      <td>322.488261</td>\n",
       "      <td>6.152105e+04</td>\n",
       "      <td>0.096940</td>\n",
       "      <td>31.596006</td>\n",
       "      <td>3.859538</td>\n",
       "      <td>1.902588</td>\n",
       "    </tr>\n",
       "    <tr>\n",
       "      <td>min</td>\n",
       "      <td>1000.000000</td>\n",
       "      <td>36.0</td>\n",
       "      <td>0.053200</td>\n",
       "      <td>30.910000</td>\n",
       "      <td>0.000000e+00</td>\n",
       "      <td>0.000000</td>\n",
       "      <td>662.000000</td>\n",
       "      <td>0.000000</td>\n",
       "      <td>0.000000</td>\n",
       "    </tr>\n",
       "    <tr>\n",
       "      <td>25%</td>\n",
       "      <td>6000.000000</td>\n",
       "      <td>36.0</td>\n",
       "      <td>0.104200</td>\n",
       "      <td>203.880000</td>\n",
       "      <td>4.300000e+04</td>\n",
       "      <td>0.129200</td>\n",
       "      <td>672.000000</td>\n",
       "      <td>2.000000</td>\n",
       "      <td>1.000000</td>\n",
       "    </tr>\n",
       "    <tr>\n",
       "      <td>50%</td>\n",
       "      <td>10000.000000</td>\n",
       "      <td>36.0</td>\n",
       "      <td>0.135900</td>\n",
       "      <td>339.790000</td>\n",
       "      <td>6.000000e+04</td>\n",
       "      <td>0.195500</td>\n",
       "      <td>692.000000</td>\n",
       "      <td>5.000000</td>\n",
       "      <td>2.000000</td>\n",
       "    </tr>\n",
       "    <tr>\n",
       "      <td>75%</td>\n",
       "      <td>17500.000000</td>\n",
       "      <td>36.0</td>\n",
       "      <td>0.160200</td>\n",
       "      <td>593.460000</td>\n",
       "      <td>8.800000e+04</td>\n",
       "      <td>0.272600</td>\n",
       "      <td>712.000000</td>\n",
       "      <td>10.000000</td>\n",
       "      <td>3.000000</td>\n",
       "    </tr>\n",
       "    <tr>\n",
       "      <td>max</td>\n",
       "      <td>40000.000000</td>\n",
       "      <td>36.0</td>\n",
       "      <td>0.263000</td>\n",
       "      <td>1566.800000</td>\n",
       "      <td>2.162772e+06</td>\n",
       "      <td>0.399900</td>\n",
       "      <td>847.000000</td>\n",
       "      <td>10.000000</td>\n",
       "      <td>18.000000</td>\n",
       "    </tr>\n",
       "  </tbody>\n",
       "</table>\n",
       "</div>"
      ],
      "text/plain": [
       "       Original Loan Balance     Term  Interest Rate  Monthly Payment  \\\n",
       "count           10469.000000  10469.0   10469.000000     10469.000000   \n",
       "mean            13111.314357     36.0       0.135828       443.871433   \n",
       "std              9608.036105      0.0       0.042958       322.488261   \n",
       "min              1000.000000     36.0       0.053200        30.910000   \n",
       "25%              6000.000000     36.0       0.104200       203.880000   \n",
       "50%             10000.000000     36.0       0.135900       339.790000   \n",
       "75%             17500.000000     36.0       0.160200       593.460000   \n",
       "max             40000.000000     36.0       0.263000      1566.800000   \n",
       "\n",
       "       Annual Income  Pre-Loan DTI  Original FICO  Employment Length  \\\n",
       "count   1.046900e+04  10469.000000   10469.000000       10469.000000   \n",
       "mean    7.432351e+04      0.202874     697.410736           5.246728   \n",
       "std     6.152105e+04      0.096940      31.596006           3.859538   \n",
       "min     0.000000e+00      0.000000     662.000000           0.000000   \n",
       "25%     4.300000e+04      0.129200     672.000000           2.000000   \n",
       "50%     6.000000e+04      0.195500     692.000000           5.000000   \n",
       "75%     8.800000e+04      0.272600     712.000000          10.000000   \n",
       "max     2.162772e+06      0.399900     847.000000          10.000000   \n",
       "\n",
       "       Number of Trade Lines Opened (Last 12 Months)  \n",
       "count                                   10469.000000  \n",
       "mean                                        2.183494  \n",
       "std                                         1.902588  \n",
       "min                                         0.000000  \n",
       "25%                                         1.000000  \n",
       "50%                                         2.000000  \n",
       "75%                                         3.000000  \n",
       "max                                        18.000000  "
      ]
     },
     "execution_count": 6,
     "metadata": {},
     "output_type": "execute_result"
    }
   ],
   "source": [
    "data_36.describe()"
   ]
  },
  {
   "cell_type": "code",
   "execution_count": 7,
   "metadata": {},
   "outputs": [],
   "source": [
    "# Inspect the distribution of the following variables using histograms: Annual Income, Pre-Loan DTI, and Original FICO. \n",
    "# Which seem to have upper and/or lower bounds?  \n",
    "# Which are effectively continuous? \n",
    "# How many unique values are there? \n",
    "# Support your answer with histograms and tables where appropriate. "
   ]
  },
  {
   "cell_type": "code",
   "execution_count": 16,
   "metadata": {},
   "outputs": [
    {
     "data": {
      "text/plain": [
       "38"
      ]
     },
     "execution_count": 16,
     "metadata": {},
     "output_type": "execute_result"
    },
    {
     "data": {
      "image/png": "[encoded data removed]",
      "text/plain": [
       "<Figure size 432x288 with 1 Axes>"
      ]
     },
     "metadata": {
      "needs_background": "light"
     },
     "output_type": "display_data"
    }
   ],
   "source": [
    "# Sample code for 'Annual Income has been provided for you'\n",
    "# Include this as part of your final answer!\n",
    "\n",
    "sns.distplot(data_36['Original FICO'])\n",
    "len(data_36['Original FICO'].unique())"
   ]
  },
  {
   "cell_type": "code",
   "execution_count": null,
   "metadata": {},
   "outputs": [],
   "source": []
  },
  {
   "cell_type": "markdown",
   "metadata": {},
   "source": [
    "## Problem 2"
   ]
  },
  {
   "cell_type": "code",
   "execution_count": 9,
   "metadata": {},
   "outputs": [],
   "source": [
    "# Each row represents a loan, and includes attributes of borrowers when they apply, decisions made by the lender or platform, and then what happens over the life of the loan. \n",
    "# Describe the chronological order of how these fields are recorded in this dataset. That is, \n",
    "\n",
    "# Which fields are recorded when a borrower applies for a loan with LendingClub? \n",
    "# Which fields are gathered when LendingClub inquires about a borrower when they contact credit bureaus and FICO? \n",
    "# Which fields are set when LendingClub sets the terms of the loan?\n",
    "# Which fields are determined some time after the borrower begins to pay back the loan (or not)? \n",
    "\n",
    "# Hint: Also not a coding question. Look at course notes and the data dictionary. "
   ]
  },
  {
   "cell_type": "code",
   "execution_count": 10,
   "metadata": {},
   "outputs": [],
   "source": [
    "# Each of the attributes reflects the state of the borrower at the time of an application, but borrowers are dynamic!  \n",
    "# At least two of these fields change when a new loan is taken out. \n",
    "# Please say which ones and describe, in mathematical terms, how they change.\n",
    "\n",
    "# Hint: Also not a coding question. Look at course notes and the data dictionary. "
   ]
  },
  {
   "cell_type": "code",
   "execution_count": 11,
   "metadata": {},
   "outputs": [],
   "source": [
    "# Many ML courses that use credit data show loan outcomes exclusively falling into two classes: default or no default, and a simplification also used in many industry applications. \n",
    "# In reality, loans involve payments by borrowers over time and so the outcome of a single loan does not fall neatly into two categories. \n",
    "# However, for the purposes of analyzing trends, we will show one common way of mapping sequences of payments into two aforementioned classes. "
   ]
  },
  {
   "cell_type": "code",
   "execution_count": 12,
   "metadata": {},
   "outputs": [],
   "source": [
    "# What outcomes are shown in the original dataset?\n",
    "\n",
    "# Hint: Apply the unique() function onto the column 'Loan Status' in the data_36 dataframe."
   ]
  },
  {
   "cell_type": "code",
   "execution_count": 19,
   "metadata": {},
   "outputs": [
    {
     "data": {
      "text/plain": [
       "array(['Paid Off', 'Current', 'Sold - Debt Sale', 'Charged Off',\n",
       "       '60 - 89 Days Delinquent', '30 - 59 Days Delinquent',\n",
       "       '>= 90 Days Delinquent', 'Late (16 - 29 DPD)'], dtype=object)"
      ]
     },
     "execution_count": 19,
     "metadata": {},
     "output_type": "execute_result"
    }
   ],
   "source": [
    "data_36['Loan Status'].unique()"
   ]
  },
  {
   "cell_type": "code",
   "execution_count": 20,
   "metadata": {},
   "outputs": [],
   "source": [
    "# Mapping Loan Status to new variable Loan Status (0 or 1)\n",
    "\n",
    "data_36_default = data_36.copy()\n",
    "data_36_default['Default'] = data_36['Loan Status'].isin(['Charged Off', 'Default']).astype('Int64')\n",
    "data_36_default = data_36_default.drop('Loan Status', axis = 1)"
   ]
  },
  {
   "cell_type": "code",
   "execution_count": 14,
   "metadata": {},
   "outputs": [],
   "source": [
    "# Using the mapping shown in the notebook, what is the overall default prevalence?\n",
    "\n",
    "# Hint: Apply the mean() function onto the 'Default' column of the data_36_default dataframe. "
   ]
  },
  {
   "cell_type": "code",
   "execution_count": 23,
   "metadata": {},
   "outputs": [
    {
     "data": {
      "text/plain": [
       "0.03648868086732257"
      ]
     },
     "execution_count": 23,
     "metadata": {},
     "output_type": "execute_result"
    }
   ],
   "source": [
    "data_36_default['Default'].mean()"
   ]
  },
  {
   "cell_type": "code",
   "execution_count": 25,
   "metadata": {},
   "outputs": [
    {
     "data": {
      "text/plain": [
       "<IntegerArray>\n",
       "[0, 1]\n",
       "Length: 2, dtype: Int64"
      ]
     },
     "execution_count": 25,
     "metadata": {},
     "output_type": "execute_result"
    }
   ],
   "source": [
    "data_36_default['Default'].unique()"
   ]
  },
  {
   "cell_type": "code",
   "execution_count": 15,
   "metadata": {},
   "outputs": [],
   "source": [
    "# Use seaborn to create a joinplot (contour plot with histograms) of original FICO scores (x_1), pre-loan DTI (x_2), and prevalence (i.e. percentage) of default ($y$). \n",
    "# Include this plot in your solutions write-up. \n",
    "# Which variable--original FICO or pre-loan DTI--appears to be a better predictor of probability of default?  \n",
    "# Why? \n",
    "# Which distribution is more symmetric? \n",
    "\n",
    "# Hint: Use the following template to help plot your answer: sns.jointplot(x_1, x_2, data = ?? , kind = 'kde'). \n",
    "# Be careful about which data frame you are using! Use the data_36_default dataframe. "
   ]
  },
  {
   "cell_type": "code",
   "execution_count": 27,
   "metadata": {},
   "outputs": [
    {
     "data": {
      "text/plain": [
       "<seaborn.axisgrid.JointGrid at 0x7f95af84f5d0>"
      ]
     },
     "execution_count": 27,
     "metadata": {},
     "output_type": "execute_result"
    },
    {
     "data": {
      "image/png": "[encoded data removed]",
      "text/plain": [
       "<Figure size 432x432 with 3 Axes>"
      ]
     },
     "metadata": {
      "needs_background": "light"
     },
     "output_type": "display_data"
    }
   ],
   "source": [
    "sns.jointplot('Original FICO', 'Pre-Loan DTI', data =  data_36_default, kind = 'kde')"
   ]
  },
  {
   "cell_type": "code",
   "execution_count": null,
   "metadata": {},
   "outputs": [],
   "source": []
  },
  {
   "cell_type": "code",
   "execution_count": 16,
   "metadata": {},
   "outputs": [],
   "source": [
    "# These functions are used to generate the plots below. \n",
    "# Look at these functions carefully and see below for a brief description. \n",
    "\n",
    "def bins_from_data_range(min, max, num_bins = 5):\n",
    "    stepsize = (max - min) / num_bins\n",
    "    thresholds = [min + stepsize*i for i in range(num_bins + 1)]\n",
    "    return(thresholds)\n",
    "\n",
    "def bins_prevalence_vs_fields(data, field, thresholds):\n",
    "    default_prev = []\n",
    "    pop_density = []\n",
    "    bin_labels = []\n",
    "    #create a format string so it'll look nice for smaller and larger numbers...\n",
    "    if thresholds[0] < 1:\n",
    "        f_string = '{:.0%}-{:.0%}'\n",
    "    else:\n",
    "        f_string = '{:.0f}-{:.0f}'\n",
    "    total_pop = data[field].count()\n",
    "    #compute values\n",
    "    for i in range(len(thresholds)-1):\n",
    "        default_prev.append( data[data[field].between(thresholds[i], thresholds[i+1])]['Default'].mean() )\n",
    "        pop_density.append(data[data[field].between(thresholds[i], thresholds[i+1])]['Default'].count() / total_pop )\n",
    "        bin_labels.append(f_string.format(thresholds[i], thresholds[i+1]))\n",
    "    return( default_prev, pop_density, bin_labels)\n",
    "\n",
    "def plot_prev_pop_bins(data, field,default_prev, pop_density, bin_labels ):\n",
    "#set up axes\n",
    "    fig = plt.figure(figsize=(6, 8))\n",
    "    ax1 = plt.subplot2grid((4, 1), (0, 0), rowspan=2)\n",
    "    ax2 = plt.subplot2grid((4, 1), (2, 0), rowspan = 2)\n",
    "    #ax1.yaxis.set_major_formatter(tic.PercentFormatter(1.0))\n",
    "    #ax2.yaxis.set_major_formatter(tic.PercentFormatter(1.0))\n",
    "# plot default prevalence\n",
    "    ax1.set_title('Default Prevalence vs. '+field, fontsize=16)\n",
    "    ax1.bar(range(len(bin_labels)), default_prev)\n",
    "    ax1.set_ylabel('Default Prevalence')\n",
    "    ax1.set_xticks(np.arange(len(bin_labels)))\n",
    "    ax1.set_xticklabels( bin_labels, rotation=90)\n",
    "    ax1.set_xlabel(field)\n",
    "    ax1.yaxis.set_major_formatter(tic.PercentFormatter(1.0))\n",
    "    ax1.grid(linestyle=':', linewidth='0.5', color='grey')\n",
    "#plot population density\n",
    "    ax2.set_title('Population Density', fontsize=16)\n",
    "    ax2.bar(range(len(bin_labels)), pop_density, color = 'purple')\n",
    "    ax2.set_ylabel('Percent of Population')\n",
    "    ax2.set_xticks(np.arange(len(bin_labels)))\n",
    "    ax2.set_xticklabels( bin_labels, rotation=90)\n",
    "    ax2.set_xlabel(field)\n",
    "    ax2.yaxis.set_major_formatter(tic.PercentFormatter(1.0))\n",
    "    ax2.grid(linestyle=':', linewidth='0.5', color='grey')\n",
    "#render plots\n",
    "    fig.tight_layout()\n",
    "    plt.show()"
   ]
  },
  {
   "cell_type": "code",
   "execution_count": 17,
   "metadata": {},
   "outputs": [],
   "source": [
    "# Using the given bar_plot_prevalence_vs_field() function in the notebook, it is possible to separate the population according to a specified field into bins. \n",
    "# The prevalence of default are then calculated for each bin and then displayed in a barplot and table. \n",
    "# Similarly, the given plot_prev_pop_bins() function creates a bar plot that displays the proportion of the population that belongs into each bin. \n",
    "# Numerical values for each bin of both bar plots are displayed in a pandas table as well. \n",
    "# The bins_from_data_range() function allows one to specify the range of a field to separate and the number of bins to separate into. \n",
    "# Run the code provided in the notebook to answer the following. \n",
    "\n",
    "# i.e. The plots have already been done for you! The following questions below ask you to intepret them. "
   ]
  },
  {
   "cell_type": "code",
   "execution_count": 18,
   "metadata": {},
   "outputs": [
    {
     "data": {
      "image/png": "[encoded data removed]",
      "text/plain": [
       "<Figure size 432x576 with 2 Axes>"
      ]
     },
     "metadata": {
      "needs_background": "light"
     },
     "output_type": "display_data"
    },
    {
     "data": {
      "text/html": [
       "<style  type=\"text/css\" >\n",
       "</style><table id=\"T_482f4b4a_f444_11ea_b658_d2cf471ea4d9\" ><thead>    <tr>        <th class=\"blank level0\" ></th>        <th class=\"col_heading level0 col0\" >Bins</th>        <th class=\"col_heading level0 col1\" >Pop Density</th>        <th class=\"col_heading level0 col2\" >Default Prev</th>    </tr></thead><tbody>\n",
       "                <tr>\n",
       "                        <th id=\"T_482f4b4a_f444_11ea_b658_d2cf471ea4d9level0_row0\" class=\"row_heading level0 row0\" >0</th>\n",
       "                        <td id=\"T_482f4b4a_f444_11ea_b658_d2cf471ea4d9row0_col0\" class=\"data row0 col0\" >0%-4%</td>\n",
       "                        <td id=\"T_482f4b4a_f444_11ea_b658_d2cf471ea4d9row0_col1\" class=\"data row0 col1\" >3.26%</td>\n",
       "                        <td id=\"T_482f4b4a_f444_11ea_b658_d2cf471ea4d9row0_col2\" class=\"data row0 col2\" >4.11%</td>\n",
       "            </tr>\n",
       "            <tr>\n",
       "                        <th id=\"T_482f4b4a_f444_11ea_b658_d2cf471ea4d9level0_row1\" class=\"row_heading level0 row1\" >1</th>\n",
       "                        <td id=\"T_482f4b4a_f444_11ea_b658_d2cf471ea4d9row1_col0\" class=\"data row1 col0\" >4%-8%</td>\n",
       "                        <td id=\"T_482f4b4a_f444_11ea_b658_d2cf471ea4d9row1_col1\" class=\"data row1 col1\" >7.20%</td>\n",
       "                        <td id=\"T_482f4b4a_f444_11ea_b658_d2cf471ea4d9row1_col2\" class=\"data row1 col2\" >3.58%</td>\n",
       "            </tr>\n",
       "            <tr>\n",
       "                        <th id=\"T_482f4b4a_f444_11ea_b658_d2cf471ea4d9level0_row2\" class=\"row_heading level0 row2\" >2</th>\n",
       "                        <td id=\"T_482f4b4a_f444_11ea_b658_d2cf471ea4d9row2_col0\" class=\"data row2 col0\" >8%-12%</td>\n",
       "                        <td id=\"T_482f4b4a_f444_11ea_b658_d2cf471ea4d9row2_col1\" class=\"data row2 col1\" >11.28%</td>\n",
       "                        <td id=\"T_482f4b4a_f444_11ea_b658_d2cf471ea4d9row2_col2\" class=\"data row2 col2\" >3.64%</td>\n",
       "            </tr>\n",
       "            <tr>\n",
       "                        <th id=\"T_482f4b4a_f444_11ea_b658_d2cf471ea4d9level0_row3\" class=\"row_heading level0 row3\" >3</th>\n",
       "                        <td id=\"T_482f4b4a_f444_11ea_b658_d2cf471ea4d9row3_col0\" class=\"data row3 col0\" >12%-16%</td>\n",
       "                        <td id=\"T_482f4b4a_f444_11ea_b658_d2cf471ea4d9row3_col1\" class=\"data row3 col1\" >15.02%</td>\n",
       "                        <td id=\"T_482f4b4a_f444_11ea_b658_d2cf471ea4d9row3_col2\" class=\"data row3 col2\" >2.29%</td>\n",
       "            </tr>\n",
       "            <tr>\n",
       "                        <th id=\"T_482f4b4a_f444_11ea_b658_d2cf471ea4d9level0_row4\" class=\"row_heading level0 row4\" >4</th>\n",
       "                        <td id=\"T_482f4b4a_f444_11ea_b658_d2cf471ea4d9row4_col0\" class=\"data row4 col0\" >16%-20%</td>\n",
       "                        <td id=\"T_482f4b4a_f444_11ea_b658_d2cf471ea4d9row4_col1\" class=\"data row4 col1\" >14.89%</td>\n",
       "                        <td id=\"T_482f4b4a_f444_11ea_b658_d2cf471ea4d9row4_col2\" class=\"data row4 col2\" >3.08%</td>\n",
       "            </tr>\n",
       "            <tr>\n",
       "                        <th id=\"T_482f4b4a_f444_11ea_b658_d2cf471ea4d9level0_row5\" class=\"row_heading level0 row5\" >5</th>\n",
       "                        <td id=\"T_482f4b4a_f444_11ea_b658_d2cf471ea4d9row5_col0\" class=\"data row5 col0\" >20%-24%</td>\n",
       "                        <td id=\"T_482f4b4a_f444_11ea_b658_d2cf471ea4d9row5_col1\" class=\"data row5 col1\" >13.78%</td>\n",
       "                        <td id=\"T_482f4b4a_f444_11ea_b658_d2cf471ea4d9row5_col2\" class=\"data row5 col2\" >4.16%</td>\n",
       "            </tr>\n",
       "            <tr>\n",
       "                        <th id=\"T_482f4b4a_f444_11ea_b658_d2cf471ea4d9level0_row6\" class=\"row_heading level0 row6\" >6</th>\n",
       "                        <td id=\"T_482f4b4a_f444_11ea_b658_d2cf471ea4d9row6_col0\" class=\"data row6 col0\" >24%-28%</td>\n",
       "                        <td id=\"T_482f4b4a_f444_11ea_b658_d2cf471ea4d9row6_col1\" class=\"data row6 col1\" >11.23%</td>\n",
       "                        <td id=\"T_482f4b4a_f444_11ea_b658_d2cf471ea4d9row6_col2\" class=\"data row6 col2\" >4.25%</td>\n",
       "            </tr>\n",
       "            <tr>\n",
       "                        <th id=\"T_482f4b4a_f444_11ea_b658_d2cf471ea4d9level0_row7\" class=\"row_heading level0 row7\" >7</th>\n",
       "                        <td id=\"T_482f4b4a_f444_11ea_b658_d2cf471ea4d9row7_col0\" class=\"data row7 col0\" >28%-32%</td>\n",
       "                        <td id=\"T_482f4b4a_f444_11ea_b658_d2cf471ea4d9row7_col1\" class=\"data row7 col1\" >8.13%</td>\n",
       "                        <td id=\"T_482f4b4a_f444_11ea_b658_d2cf471ea4d9row7_col2\" class=\"data row7 col2\" >5.17%</td>\n",
       "            </tr>\n",
       "            <tr>\n",
       "                        <th id=\"T_482f4b4a_f444_11ea_b658_d2cf471ea4d9level0_row8\" class=\"row_heading level0 row8\" >8</th>\n",
       "                        <td id=\"T_482f4b4a_f444_11ea_b658_d2cf471ea4d9row8_col0\" class=\"data row8 col0\" >32%-36%</td>\n",
       "                        <td id=\"T_482f4b4a_f444_11ea_b658_d2cf471ea4d9row8_col1\" class=\"data row8 col1\" >7.40%</td>\n",
       "                        <td id=\"T_482f4b4a_f444_11ea_b658_d2cf471ea4d9row8_col2\" class=\"data row8 col2\" >4.00%</td>\n",
       "            </tr>\n",
       "            <tr>\n",
       "                        <th id=\"T_482f4b4a_f444_11ea_b658_d2cf471ea4d9level0_row9\" class=\"row_heading level0 row9\" >9</th>\n",
       "                        <td id=\"T_482f4b4a_f444_11ea_b658_d2cf471ea4d9row9_col0\" class=\"data row9 col0\" >36%-40%</td>\n",
       "                        <td id=\"T_482f4b4a_f444_11ea_b658_d2cf471ea4d9row9_col1\" class=\"data row9 col1\" >7.80%</td>\n",
       "                        <td id=\"T_482f4b4a_f444_11ea_b658_d2cf471ea4d9row9_col2\" class=\"data row9 col2\" >3.55%</td>\n",
       "            </tr>\n",
       "    </tbody></table>"
      ],
      "text/plain": [
       "<pandas.io.formats.style.Styler at 0x25c9a56e048>"
      ]
     },
     "execution_count": 18,
     "metadata": {},
     "output_type": "execute_result"
    }
   ],
   "source": [
    "bins = bins_from_data_range( data_36['Pre-Loan DTI'].min(), data_36['Pre-Loan DTI'].max(), 10)\n",
    "\n",
    "default_prev, population_density, bin_labels = bins_prevalence_vs_fields(data_36_default, 'Pre-Loan DTI', bins )\n",
    "plot_prev_pop_bins(data_36_default, 'Pre-Loan DTI',  default_prev, population_density, bin_labels )\n",
    "\n",
    "out_pandas = pd.DataFrame.from_dict({'Bins':bin_labels, 'Pop Density':population_density, 'Default Prev':default_prev})\n",
    "out_pandas.style.format({'Pop Density':'{:.2%}', 'Default Prev': '{:.2%}'})"
   ]
  },
  {
   "cell_type": "code",
   "execution_count": 19,
   "metadata": {},
   "outputs": [
    {
     "data": {
      "image/png": "[encoded data removed]",
      "text/plain": [
       "<Figure size 432x576 with 2 Axes>"
      ]
     },
     "metadata": {
      "needs_background": "light"
     },
     "output_type": "display_data"
    },
    {
     "data": {
      "text/html": [
       "<style  type=\"text/css\" >\n",
       "</style><table id=\"T_4870466e_f444_11ea_9978_d2cf471ea4d9\" ><thead>    <tr>        <th class=\"blank level0\" ></th>        <th class=\"col_heading level0 col0\" >Bins</th>        <th class=\"col_heading level0 col1\" >Pop Density</th>        <th class=\"col_heading level0 col2\" >Default Prev</th>    </tr></thead><tbody>\n",
       "                <tr>\n",
       "                        <th id=\"T_4870466e_f444_11ea_9978_d2cf471ea4d9level0_row0\" class=\"row_heading level0 row0\" >0</th>\n",
       "                        <td id=\"T_4870466e_f444_11ea_9978_d2cf471ea4d9row0_col0\" class=\"data row0 col0\" >662-676</td>\n",
       "                        <td id=\"T_4870466e_f444_11ea_9978_d2cf471ea4d9row0_col1\" class=\"data row0 col1\" >27.73%</td>\n",
       "                        <td id=\"T_4870466e_f444_11ea_9978_d2cf471ea4d9row0_col2\" class=\"data row0 col2\" >4.10%</td>\n",
       "            </tr>\n",
       "            <tr>\n",
       "                        <th id=\"T_4870466e_f444_11ea_9978_d2cf471ea4d9level0_row1\" class=\"row_heading level0 row1\" >1</th>\n",
       "                        <td id=\"T_4870466e_f444_11ea_9978_d2cf471ea4d9row1_col0\" class=\"data row1 col0\" >676-690</td>\n",
       "                        <td id=\"T_4870466e_f444_11ea_9978_d2cf471ea4d9row1_col1\" class=\"data row1 col1\" >21.99%</td>\n",
       "                        <td id=\"T_4870466e_f444_11ea_9978_d2cf471ea4d9row1_col2\" class=\"data row1 col2\" >4.26%</td>\n",
       "            </tr>\n",
       "            <tr>\n",
       "                        <th id=\"T_4870466e_f444_11ea_9978_d2cf471ea4d9level0_row2\" class=\"row_heading level0 row2\" >2</th>\n",
       "                        <td id=\"T_4870466e_f444_11ea_9978_d2cf471ea4d9row2_col0\" class=\"data row2 col0\" >690-703</td>\n",
       "                        <td id=\"T_4870466e_f444_11ea_9978_d2cf471ea4d9row2_col1\" class=\"data row2 col1\" >17.09%</td>\n",
       "                        <td id=\"T_4870466e_f444_11ea_9978_d2cf471ea4d9row2_col2\" class=\"data row2 col2\" >3.63%</td>\n",
       "            </tr>\n",
       "            <tr>\n",
       "                        <th id=\"T_4870466e_f444_11ea_9978_d2cf471ea4d9level0_row3\" class=\"row_heading level0 row3\" >3</th>\n",
       "                        <td id=\"T_4870466e_f444_11ea_9978_d2cf471ea4d9row3_col0\" class=\"data row3 col0\" >703-717</td>\n",
       "                        <td id=\"T_4870466e_f444_11ea_9978_d2cf471ea4d9row3_col1\" class=\"data row3 col1\" >12.99%</td>\n",
       "                        <td id=\"T_4870466e_f444_11ea_9978_d2cf471ea4d9row3_col2\" class=\"data row3 col2\" >3.82%</td>\n",
       "            </tr>\n",
       "            <tr>\n",
       "                        <th id=\"T_4870466e_f444_11ea_9978_d2cf471ea4d9level0_row4\" class=\"row_heading level0 row4\" >4</th>\n",
       "                        <td id=\"T_4870466e_f444_11ea_9978_d2cf471ea4d9row4_col0\" class=\"data row4 col0\" >717-731</td>\n",
       "                        <td id=\"T_4870466e_f444_11ea_9978_d2cf471ea4d9row4_col1\" class=\"data row4 col1\" >5.98%</td>\n",
       "                        <td id=\"T_4870466e_f444_11ea_9978_d2cf471ea4d9row4_col2\" class=\"data row4 col2\" >3.83%</td>\n",
       "            </tr>\n",
       "            <tr>\n",
       "                        <th id=\"T_4870466e_f444_11ea_9978_d2cf471ea4d9level0_row5\" class=\"row_heading level0 row5\" >5</th>\n",
       "                        <td id=\"T_4870466e_f444_11ea_9978_d2cf471ea4d9row5_col0\" class=\"data row5 col0\" >731-745</td>\n",
       "                        <td id=\"T_4870466e_f444_11ea_9978_d2cf471ea4d9row5_col1\" class=\"data row5 col1\" >5.52%</td>\n",
       "                        <td id=\"T_4870466e_f444_11ea_9978_d2cf471ea4d9row5_col2\" class=\"data row5 col2\" >2.25%</td>\n",
       "            </tr>\n",
       "            <tr>\n",
       "                        <th id=\"T_4870466e_f444_11ea_9978_d2cf471ea4d9level0_row6\" class=\"row_heading level0 row6\" >6</th>\n",
       "                        <td id=\"T_4870466e_f444_11ea_9978_d2cf471ea4d9row6_col0\" class=\"data row6 col0\" >745-759</td>\n",
       "                        <td id=\"T_4870466e_f444_11ea_9978_d2cf471ea4d9row6_col1\" class=\"data row6 col1\" >3.32%</td>\n",
       "                        <td id=\"T_4870466e_f444_11ea_9978_d2cf471ea4d9row6_col2\" class=\"data row6 col2\" >1.15%</td>\n",
       "            </tr>\n",
       "            <tr>\n",
       "                        <th id=\"T_4870466e_f444_11ea_9978_d2cf471ea4d9level0_row7\" class=\"row_heading level0 row7\" >7</th>\n",
       "                        <td id=\"T_4870466e_f444_11ea_9978_d2cf471ea4d9row7_col0\" class=\"data row7 col0\" >759-772</td>\n",
       "                        <td id=\"T_4870466e_f444_11ea_9978_d2cf471ea4d9row7_col1\" class=\"data row7 col1\" >2.20%</td>\n",
       "                        <td id=\"T_4870466e_f444_11ea_9978_d2cf471ea4d9row7_col2\" class=\"data row7 col2\" >1.74%</td>\n",
       "            </tr>\n",
       "            <tr>\n",
       "                        <th id=\"T_4870466e_f444_11ea_9978_d2cf471ea4d9level0_row8\" class=\"row_heading level0 row8\" >8</th>\n",
       "                        <td id=\"T_4870466e_f444_11ea_9978_d2cf471ea4d9row8_col0\" class=\"data row8 col0\" >772-786</td>\n",
       "                        <td id=\"T_4870466e_f444_11ea_9978_d2cf471ea4d9row8_col1\" class=\"data row8 col1\" >1.05%</td>\n",
       "                        <td id=\"T_4870466e_f444_11ea_9978_d2cf471ea4d9row8_col2\" class=\"data row8 col2\" >0.91%</td>\n",
       "            </tr>\n",
       "            <tr>\n",
       "                        <th id=\"T_4870466e_f444_11ea_9978_d2cf471ea4d9level0_row9\" class=\"row_heading level0 row9\" >9</th>\n",
       "                        <td id=\"T_4870466e_f444_11ea_9978_d2cf471ea4d9row9_col0\" class=\"data row9 col0\" >786-800</td>\n",
       "                        <td id=\"T_4870466e_f444_11ea_9978_d2cf471ea4d9row9_col1\" class=\"data row9 col1\" >1.05%</td>\n",
       "                        <td id=\"T_4870466e_f444_11ea_9978_d2cf471ea4d9row9_col2\" class=\"data row9 col2\" >1.82%</td>\n",
       "            </tr>\n",
       "    </tbody></table>"
      ],
      "text/plain": [
       "<pandas.io.formats.style.Styler at 0x25c9abcefc8>"
      ]
     },
     "execution_count": 19,
     "metadata": {},
     "output_type": "execute_result"
    }
   ],
   "source": [
    "bins = bins_from_data_range( data_36['Original FICO'].min(), data_36['Original FICO'].max(), 10)\n",
    "bins = bins_from_data_range( data_36['Original FICO'].min(), 800, 10)\n",
    "\n",
    "default_prev, population_density, bin_labels = bins_prevalence_vs_fields(data_36_default, 'Original FICO', bins)\n",
    "plot_prev_pop_bins(data_36_default, 'Original FICO',  default_prev, population_density, bin_labels)\n",
    "\n",
    "out_pandas = pd.DataFrame.from_dict({'Bins':bin_labels, 'Pop Density':population_density, 'Default Prev':default_prev})\n",
    "out_pandas.style.format({'Pop Density':'{:.2%}', 'Default Prev': '{:.2%}'})\n"
   ]
  },
  {
   "cell_type": "markdown",
   "metadata": {},
   "source": [
    "## Problem 3"
   ]
  },
  {
   "cell_type": "markdown",
   "metadata": {},
   "source": [
    "## Problem 3"
   ]
  },
  {
   "cell_type": "code",
   "execution_count": 21,
   "metadata": {},
   "outputs": [],
   "source": [
    "# Is the population more evenly distributed between the bins for Pre-Loan DTI or Original FICO? \n",
    "# Do higher proportions of population in each bin make you more confident or less confident about the associated prevalence of default? \n",
    "# Why?\n"
   ]
  }
 ],
 "metadata": {
  "kernelspec": {
   "display_name": "Python 3",
   "language": "python",
   "name": "python3"
  },
  "language_info": {
   "codemirror_mode": {
    "name": "ipython",
    "version": 3
   },
   "file_extension": ".py",
   "mimetype": "text/x-python",
   "name": "python",
   "nbconvert_exporter": "python",
   "pygments_lexer": "ipython3",
   "version": "3.7.6"
  }
 },
 "nbformat": 4,
 "nbformat_minor": 2
}
